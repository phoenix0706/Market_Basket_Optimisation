{
 "cells": [
  {
   "cell_type": "markdown",
   "id": "bddc576e-ab82-4bb0-87d9-34700ee48a3e",
   "metadata": {},
   "source": [
    "# Importing libraries"
   ]
  },
  {
   "cell_type": "code",
   "execution_count": 1,
   "id": "efb87255-4b02-47c6-ba05-0b729ff1dfc7",
   "metadata": {},
   "outputs": [],
   "source": [
    "import numpy as np\n",
    "import pandas as pd\n",
    "import matplotlib.pyplot as plt\n"
   ]
  },
  {
   "cell_type": "markdown",
   "id": "ab22f713-3a48-4f50-be01-fd93b0115b5d",
   "metadata": {},
   "source": [
    "# Data Preprocessing"
   ]
  },
  {
   "cell_type": "code",
   "execution_count": 4,
   "id": "cd7e30f4-7865-43c3-bbf4-789fc0709ac1",
   "metadata": {},
   "outputs": [],
   "source": [
    "# apriori accepts data in a different format\n",
    "# so we need to transform data in terms of what apyori method accepts\n",
    "# first reading the dataset\n",
    "dataset=pd.read_csv('Market_Basket_Optimisation.csv',header=None) \n",
    "#header=NONE Implies first row contains data and no heading of col is there\n",
    "transactions=[]\n",
    "for i in range (0,7501):\n",
    "    transactions.append([str(dataset.values[i,j]) for j in range (0,20)])\n",
    "\n",
    "                "
   ]
  },
  {
   "cell_type": "markdown",
   "id": "24d152ed-a6dd-4f5d-84e4-43db8fdde340",
   "metadata": {},
   "source": [
    "# Training the Apriori Model on the dataset"
   ]
  },
  {
   "cell_type": "code",
   "execution_count": 8,
   "id": "8d570f95-ee33-4fa8-9bdd-bfc6eb35f9b3",
   "metadata": {},
   "outputs": [],
   "source": [
    "from apyori import apriori\n",
    "rules=apriori(transactions=transactions,min_support=0.003,min_confidence=0.2,min_lift=3,min_length=2,max_length=2)"
   ]
  },
  {
   "cell_type": "markdown",
   "id": "7ac8c717-0185-4a4f-bc7c-7d6ef8c00ffa",
   "metadata": {},
   "source": [
    "# Visualising results"
   ]
  },
  {
   "cell_type": "code",
   "execution_count": 9,
   "id": "bc75f986-d5d8-4fb2-a4e8-7092a7a01403",
   "metadata": {},
   "outputs": [
    {
     "name": "stdout",
     "output_type": "stream",
     "text": [
      "[RelationRecord(items=frozenset({'chicken', 'light cream'}), support=0.004532728969470737, ordered_statistics=[OrderedStatistic(items_base=frozenset({'light cream'}), items_add=frozenset({'chicken'}), confidence=0.29059829059829057, lift=4.84395061728395)]), RelationRecord(items=frozenset({'mushroom cream sauce', 'escalope'}), support=0.005732568990801226, ordered_statistics=[OrderedStatistic(items_base=frozenset({'mushroom cream sauce'}), items_add=frozenset({'escalope'}), confidence=0.3006993006993007, lift=3.790832696715049)]), RelationRecord(items=frozenset({'pasta', 'escalope'}), support=0.005865884548726837, ordered_statistics=[OrderedStatistic(items_base=frozenset({'pasta'}), items_add=frozenset({'escalope'}), confidence=0.3728813559322034, lift=4.700811850163794)]), RelationRecord(items=frozenset({'fromage blanc', 'honey'}), support=0.003332888948140248, ordered_statistics=[OrderedStatistic(items_base=frozenset({'fromage blanc'}), items_add=frozenset({'honey'}), confidence=0.2450980392156863, lift=5.164270764485569)]), RelationRecord(items=frozenset({'ground beef', 'herb & pepper'}), support=0.015997866951073192, ordered_statistics=[OrderedStatistic(items_base=frozenset({'herb & pepper'}), items_add=frozenset({'ground beef'}), confidence=0.3234501347708895, lift=3.2919938411349285)]), RelationRecord(items=frozenset({'ground beef', 'tomato sauce'}), support=0.005332622317024397, ordered_statistics=[OrderedStatistic(items_base=frozenset({'tomato sauce'}), items_add=frozenset({'ground beef'}), confidence=0.3773584905660377, lift=3.840659481324083)]), RelationRecord(items=frozenset({'light cream', 'olive oil'}), support=0.003199573390214638, ordered_statistics=[OrderedStatistic(items_base=frozenset({'light cream'}), items_add=frozenset({'olive oil'}), confidence=0.20512820512820515, lift=3.1147098515519573)]), RelationRecord(items=frozenset({'whole wheat pasta', 'olive oil'}), support=0.007998933475536596, ordered_statistics=[OrderedStatistic(items_base=frozenset({'whole wheat pasta'}), items_add=frozenset({'olive oil'}), confidence=0.2714932126696833, lift=4.122410097642296)]), RelationRecord(items=frozenset({'pasta', 'shrimp'}), support=0.005065991201173177, ordered_statistics=[OrderedStatistic(items_base=frozenset({'pasta'}), items_add=frozenset({'shrimp'}), confidence=0.3220338983050847, lift=4.506672147735896)])]\n"
     ]
    }
   ],
   "source": [
    "results=list(rules)\n",
    "print(results)"
   ]
  },
  {
   "cell_type": "markdown",
   "id": "2260a4c1-7617-402a-8d1f-1653c114316f",
   "metadata": {},
   "source": [
    "# Visualising results in pandas dataframe"
   ]
  },
  {
   "cell_type": "code",
   "execution_count": 12,
   "id": "63810676-c5d8-4a28-a615-3481e11aef13",
   "metadata": {},
   "outputs": [],
   "source": [
    "def inspect(output):\n",
    "    lhs         = [tuple(result[2][0][0])[0] for result in output]\n",
    "    rhs         = [tuple(result[2][0][1])[0] for result in output]\n",
    "    support    = [result[1] for result in output]\n",
    "    confidence = [result[2][0][2] for result in output]\n",
    "    lift       = [result[2][0][3] for result in output]\n",
    "    return list(zip(lhs, rhs, support, confidence, lift))\n",
    "output_DataFrame = pd.DataFrame(inspect(results), columns = ['Left_Hand_Side', 'Right_Hand_Side', 'Support', 'Confidence', 'Lift'])"
   ]
  },
  {
   "cell_type": "code",
   "execution_count": 14,
   "id": "f85103ff-70e8-4f3f-8e6e-56e503cf40b5",
   "metadata": {},
   "outputs": [
    {
     "data": {
      "text/html": [
       "<div>\n",
       "<style scoped>\n",
       "    .dataframe tbody tr th:only-of-type {\n",
       "        vertical-align: middle;\n",
       "    }\n",
       "\n",
       "    .dataframe tbody tr th {\n",
       "        vertical-align: top;\n",
       "    }\n",
       "\n",
       "    .dataframe thead th {\n",
       "        text-align: right;\n",
       "    }\n",
       "</style>\n",
       "<table border=\"1\" class=\"dataframe\">\n",
       "  <thead>\n",
       "    <tr style=\"text-align: right;\">\n",
       "      <th></th>\n",
       "      <th>Left_Hand_Side</th>\n",
       "      <th>Right_Hand_Side</th>\n",
       "      <th>Support</th>\n",
       "      <th>Confidence</th>\n",
       "      <th>Lift</th>\n",
       "    </tr>\n",
       "  </thead>\n",
       "  <tbody>\n",
       "    <tr>\n",
       "      <th>0</th>\n",
       "      <td>light cream</td>\n",
       "      <td>chicken</td>\n",
       "      <td>0.004533</td>\n",
       "      <td>0.290598</td>\n",
       "      <td>4.843951</td>\n",
       "    </tr>\n",
       "    <tr>\n",
       "      <th>1</th>\n",
       "      <td>mushroom cream sauce</td>\n",
       "      <td>escalope</td>\n",
       "      <td>0.005733</td>\n",
       "      <td>0.300699</td>\n",
       "      <td>3.790833</td>\n",
       "    </tr>\n",
       "    <tr>\n",
       "      <th>2</th>\n",
       "      <td>pasta</td>\n",
       "      <td>escalope</td>\n",
       "      <td>0.005866</td>\n",
       "      <td>0.372881</td>\n",
       "      <td>4.700812</td>\n",
       "    </tr>\n",
       "    <tr>\n",
       "      <th>3</th>\n",
       "      <td>fromage blanc</td>\n",
       "      <td>honey</td>\n",
       "      <td>0.003333</td>\n",
       "      <td>0.245098</td>\n",
       "      <td>5.164271</td>\n",
       "    </tr>\n",
       "    <tr>\n",
       "      <th>4</th>\n",
       "      <td>herb &amp; pepper</td>\n",
       "      <td>ground beef</td>\n",
       "      <td>0.015998</td>\n",
       "      <td>0.323450</td>\n",
       "      <td>3.291994</td>\n",
       "    </tr>\n",
       "    <tr>\n",
       "      <th>5</th>\n",
       "      <td>tomato sauce</td>\n",
       "      <td>ground beef</td>\n",
       "      <td>0.005333</td>\n",
       "      <td>0.377358</td>\n",
       "      <td>3.840659</td>\n",
       "    </tr>\n",
       "    <tr>\n",
       "      <th>6</th>\n",
       "      <td>light cream</td>\n",
       "      <td>olive oil</td>\n",
       "      <td>0.003200</td>\n",
       "      <td>0.205128</td>\n",
       "      <td>3.114710</td>\n",
       "    </tr>\n",
       "    <tr>\n",
       "      <th>7</th>\n",
       "      <td>whole wheat pasta</td>\n",
       "      <td>olive oil</td>\n",
       "      <td>0.007999</td>\n",
       "      <td>0.271493</td>\n",
       "      <td>4.122410</td>\n",
       "    </tr>\n",
       "    <tr>\n",
       "      <th>8</th>\n",
       "      <td>pasta</td>\n",
       "      <td>shrimp</td>\n",
       "      <td>0.005066</td>\n",
       "      <td>0.322034</td>\n",
       "      <td>4.506672</td>\n",
       "    </tr>\n",
       "  </tbody>\n",
       "</table>\n",
       "</div>"
      ],
      "text/plain": [
       "         Left_Hand_Side Right_Hand_Side   Support  Confidence      Lift\n",
       "0           light cream         chicken  0.004533    0.290598  4.843951\n",
       "1  mushroom cream sauce        escalope  0.005733    0.300699  3.790833\n",
       "2                 pasta        escalope  0.005866    0.372881  4.700812\n",
       "3         fromage blanc           honey  0.003333    0.245098  5.164271\n",
       "4         herb & pepper     ground beef  0.015998    0.323450  3.291994\n",
       "5          tomato sauce     ground beef  0.005333    0.377358  3.840659\n",
       "6           light cream       olive oil  0.003200    0.205128  3.114710\n",
       "7     whole wheat pasta       olive oil  0.007999    0.271493  4.122410\n",
       "8                 pasta          shrimp  0.005066    0.322034  4.506672"
      ]
     },
     "execution_count": 14,
     "metadata": {},
     "output_type": "execute_result"
    }
   ],
   "source": [
    "output_DataFrame"
   ]
  },
  {
   "cell_type": "markdown",
   "id": "450ffa16-caff-46e9-aa44-2ae4e32d5657",
   "metadata": {},
   "source": [
    "# Output in decreasing order of lift"
   ]
  },
  {
   "cell_type": "code",
   "execution_count": 16,
   "id": "178686bf-45b8-4a12-93b8-b4da69c7e546",
   "metadata": {},
   "outputs": [
    {
     "data": {
      "text/html": [
       "<div>\n",
       "<style scoped>\n",
       "    .dataframe tbody tr th:only-of-type {\n",
       "        vertical-align: middle;\n",
       "    }\n",
       "\n",
       "    .dataframe tbody tr th {\n",
       "        vertical-align: top;\n",
       "    }\n",
       "\n",
       "    .dataframe thead th {\n",
       "        text-align: right;\n",
       "    }\n",
       "</style>\n",
       "<table border=\"1\" class=\"dataframe\">\n",
       "  <thead>\n",
       "    <tr style=\"text-align: right;\">\n",
       "      <th></th>\n",
       "      <th>Left_Hand_Side</th>\n",
       "      <th>Right_Hand_Side</th>\n",
       "      <th>Support</th>\n",
       "      <th>Confidence</th>\n",
       "      <th>Lift</th>\n",
       "    </tr>\n",
       "  </thead>\n",
       "  <tbody>\n",
       "    <tr>\n",
       "      <th>3</th>\n",
       "      <td>fromage blanc</td>\n",
       "      <td>honey</td>\n",
       "      <td>0.003333</td>\n",
       "      <td>0.245098</td>\n",
       "      <td>5.164271</td>\n",
       "    </tr>\n",
       "    <tr>\n",
       "      <th>0</th>\n",
       "      <td>light cream</td>\n",
       "      <td>chicken</td>\n",
       "      <td>0.004533</td>\n",
       "      <td>0.290598</td>\n",
       "      <td>4.843951</td>\n",
       "    </tr>\n",
       "    <tr>\n",
       "      <th>2</th>\n",
       "      <td>pasta</td>\n",
       "      <td>escalope</td>\n",
       "      <td>0.005866</td>\n",
       "      <td>0.372881</td>\n",
       "      <td>4.700812</td>\n",
       "    </tr>\n",
       "    <tr>\n",
       "      <th>8</th>\n",
       "      <td>pasta</td>\n",
       "      <td>shrimp</td>\n",
       "      <td>0.005066</td>\n",
       "      <td>0.322034</td>\n",
       "      <td>4.506672</td>\n",
       "    </tr>\n",
       "    <tr>\n",
       "      <th>7</th>\n",
       "      <td>whole wheat pasta</td>\n",
       "      <td>olive oil</td>\n",
       "      <td>0.007999</td>\n",
       "      <td>0.271493</td>\n",
       "      <td>4.122410</td>\n",
       "    </tr>\n",
       "    <tr>\n",
       "      <th>5</th>\n",
       "      <td>tomato sauce</td>\n",
       "      <td>ground beef</td>\n",
       "      <td>0.005333</td>\n",
       "      <td>0.377358</td>\n",
       "      <td>3.840659</td>\n",
       "    </tr>\n",
       "    <tr>\n",
       "      <th>1</th>\n",
       "      <td>mushroom cream sauce</td>\n",
       "      <td>escalope</td>\n",
       "      <td>0.005733</td>\n",
       "      <td>0.300699</td>\n",
       "      <td>3.790833</td>\n",
       "    </tr>\n",
       "    <tr>\n",
       "      <th>4</th>\n",
       "      <td>herb &amp; pepper</td>\n",
       "      <td>ground beef</td>\n",
       "      <td>0.015998</td>\n",
       "      <td>0.323450</td>\n",
       "      <td>3.291994</td>\n",
       "    </tr>\n",
       "    <tr>\n",
       "      <th>6</th>\n",
       "      <td>light cream</td>\n",
       "      <td>olive oil</td>\n",
       "      <td>0.003200</td>\n",
       "      <td>0.205128</td>\n",
       "      <td>3.114710</td>\n",
       "    </tr>\n",
       "  </tbody>\n",
       "</table>\n",
       "</div>"
      ],
      "text/plain": [
       "         Left_Hand_Side Right_Hand_Side   Support  Confidence      Lift\n",
       "3         fromage blanc           honey  0.003333    0.245098  5.164271\n",
       "0           light cream         chicken  0.004533    0.290598  4.843951\n",
       "2                 pasta        escalope  0.005866    0.372881  4.700812\n",
       "8                 pasta          shrimp  0.005066    0.322034  4.506672\n",
       "7     whole wheat pasta       olive oil  0.007999    0.271493  4.122410\n",
       "5          tomato sauce     ground beef  0.005333    0.377358  3.840659\n",
       "1  mushroom cream sauce        escalope  0.005733    0.300699  3.790833\n",
       "4         herb & pepper     ground beef  0.015998    0.323450  3.291994\n",
       "6           light cream       olive oil  0.003200    0.205128  3.114710"
      ]
     },
     "execution_count": 16,
     "metadata": {},
     "output_type": "execute_result"
    }
   ],
   "source": [
    "output_DataFrame.nlargest(n=10,columns='Lift')"
   ]
  },
  {
   "cell_type": "code",
   "execution_count": null,
   "id": "8c95f701-9cb2-455f-9e48-677a4b9fb7b1",
   "metadata": {},
   "outputs": [],
   "source": []
  }
 ],
 "metadata": {
  "kernelspec": {
   "display_name": "Python 3 (ipykernel)",
   "language": "python",
   "name": "python3"
  },
  "language_info": {
   "codemirror_mode": {
    "name": "ipython",
    "version": 3
   },
   "file_extension": ".py",
   "mimetype": "text/x-python",
   "name": "python",
   "nbconvert_exporter": "python",
   "pygments_lexer": "ipython3",
   "version": "3.10.4"
  }
 },
 "nbformat": 4,
 "nbformat_minor": 5
}
